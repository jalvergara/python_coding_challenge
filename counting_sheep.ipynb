{
 "cells": [
  {
   "cell_type": "markdown",
   "id": "0bd59819",
   "metadata": {
    "tags": []
   },
   "source": [
    "## Challenge: Insomnio\n",
    "\n",
    "**Dificultad: Fácil**\n",
    "\n",
    "**Tiempo estimado: 1h 45m**\n",
    "\n",
    "### Problema\n",
    "La oveja Bleatrix ha ideado una estrategia que la ayuda a conciliar el sueño más rápido.\n",
    "\n",
    "Primero, ella elige un número **N**. Luego comienza a nombrar **N**, **2 × N**, **3 × N**, y así sucesivamente.\n",
    "\n",
    "Cada vez que ella nombra un número, piensa en todos los dígitos de ese número. Ella lleva la cuenta de qué dígitos (0, 1, 2,\n",
    "3, 4, 5, 6, 7, 8 y 9) ha visto al menos una vez hasta ahora como parte de cualquier número que haya nombrado.\n",
    "\n",
    "Una vez que haya visto cada uno de los diez dígitos al menos una vez, se quedará dormida.\n",
    "\n",
    "Bleatrix debe comenzar con **N** y siempre debe nombrar **(i + 1) × N** directamente después de **i × N**. \n",
    "\n",
    "Por ejemplo, supongamos que Bleatrix elige **N = 1692**.\n",
    "\n",
    "Ella contaría de la siguiente manera:\n",
    "\n",
    "**N = 1692**. Ahora ha visto los dígitos **1, 6, 9 y 2**.\n",
    "\n",
    "**2N = 3384**. Ahora ha visto los dígitos **1, 6, 9, 2, 3, 8 y 4**.\n",
    "\n",
    "**3N = 5076**. Ahora ha visto los diez dígitos y se queda dormida.\n",
    "\n",
    "En caso de tener que contar para siempre, debería responder **INSOMNIA** como último número visto.\n",
    "\n",
    "**¿Cuál es el último número que nombrará antes de quedarse dormida?**\n",
    "\n",
    "\n",
    "\n",
    "### Input\n",
    "La primera línea de la entrada proporciona el número de casos de test **T**.\n",
    "\n",
    "Siguen **T** casos de test, donde cada uno consta de una línea con una expresion de un único número entero **N**, que representa el número que Bleatrix ha elegido.\n",
    "\n",
    "Si el número **N** no cae dentro de los valores permitidos, se deberá ignorar y continuar con el siguiente caso, sin contar este caso en la numeración del output.\n",
    "\n",
    "Si el número **N** no puede ser interpretado sin información externa, se deberá ignorar y continuar con el siguiente caso, sin contar este caso en la numeración del output.\n",
    "\n",
    "Ejemplo:\n",
    "\n",
    "```\n",
    "5\n",
    "0\n",
    "1\n",
    "2\n",
    "11\n",
    "1692\n",
    "```\n",
    "\n",
    "### Output\n",
    "Para cada caso de prueba, genere una línea que contenga **Case #X: Y**, donde **X** es el número del caso de prueba comenzando desde 1, e **Y** es el último número que Bleatrix nombrará antes de quedarse dormida, según las reglas establecidas.\n",
    "\n",
    "Ejemplo:\n",
    "```\n",
    "Case #1: INSOMNIA\n",
    "Case #2: 10\n",
    "Case #3: 90\n",
    "Case #4: 110\n",
    "Case #5: 5076\n",
    "```\n",
    "\n",
    "### Limites\n",
    "1. Tiempo: **10s** por conjunto de test.\n",
    "2. Memoria: **1 GB**.\n",
    "3. Valores: **0 ≤ N < 10^30**\n",
    "4. Casos de test: **1 ≤ T ≤ 100**.\n"
   ]
  },
  {
   "cell_type": "markdown",
   "id": "118455bc-3694-4839-9c03-e7aa8b5e2654",
   "metadata": {},
   "source": [
    "-----------"
   ]
  },
  {
   "cell_type": "markdown",
   "id": "4fc5cf8c-7422-438b-9e5a-6939cc992261",
   "metadata": {},
   "source": [
    "## Solución"
   ]
  },
  {
   "cell_type": "code",
   "execution_count": 14,
   "id": "13225824-59cc-4b8e-9303-f78c92ed9f36",
   "metadata": {},
   "outputs": [
    {
     "data": {
      "text/plain": [
       "(4, int)"
      ]
     },
     "execution_count": 14,
     "metadata": {},
     "output_type": "execute_result"
    }
   ],
   "source": [
    "from pathlib import Path\n",
    "from typing import Union, List\n",
    "import re \n",
    "\n",
    "\n",
    "def verify(ans_file, num_test):\n",
    "    \"\"\"\n",
    "    Function to verify the answers file generated.\n",
    "    \"\"\"\n",
    "    from hashlib import sha256\n",
    "    out = f\"{ans_file}: FAILED\"\n",
    "    answers = {\n",
    "        1: \"26db825d95ae7d4e17d390da877d34dc0860f5b488b3edf43faa3a5219cba2f5\",\n",
    "        2: \"03ad2675505e9dce6ad4947b180cf46f8973d2247e8c5f350acef14f240a4a8e\",\n",
    "        3: \"90010567bc90a40ab638e6af16871dc1daef99358fa7b6046a5ecd69ef44d548\",\n",
    "    }\n",
    "    ans = answers[num_test]\n",
    "    with open(ans_file, \"r\") as f:\n",
    "        if ans == sha256(f.read().encode(\"utf-8\")).hexdigest():\n",
    "            out = f\"{ans_file}: SUCCEED\"\n",
    "    print(out)\n",
    "\n",
    "def eval_int_exp(exp: str) -> int:\n",
    "    \"\"\"\n",
    "    Function to evaluate a math expression or convert a string to an integer.\n",
    "\n",
    "    Args:\n",
    "        exp (str): The expression to be evaluated.\n",
    "\n",
    "    Returns:\n",
    "        int: The evaluated integer result. If the expression is invalid or the result is out of range, returns 0.\n",
    "    \"\"\"\n",
    "    \n",
    "    try:\n",
    "        return int(exp)\n",
    "    except ValueError:\n",
    "        \n",
    "        valid_chars = re.compile(r'^[\\d+\\-*/\\(\\) ]+$')\n",
    "\n",
    "        if not valid_chars.match(exp):\n",
    "            \n",
    "            return 0\n",
    "\n",
    "        try:\n",
    "        \n",
    "            if '**' in exp:\n",
    "                \n",
    "                base, exponent = exp.split('**')\n",
    "                base = int(base)\n",
    "                exponent = int(exponent)\n",
    "                \n",
    "                if exponent > 30:\n",
    "                    \n",
    "                    return 0\n",
    "                result = base ** exponent\n",
    "            else:\n",
    "                \n",
    "                result = eval(exp, {\"__builtins__\": None}, {})\n",
    "        except Exception:\n",
    "    \n",
    "            return 0\n",
    "\n",
    "        if not isinstance(result, int):\n",
    "            \n",
    "            return 0\n",
    "\n",
    "        if not (0 <= result < 10**30):\n",
    "            \n",
    "            return 0\n",
    "\n",
    "        return result\n",
    "\n",
    "value = eval_int_exp(\"2+2\")\n",
    "value, type(value)"
   ]
  },
  {
   "cell_type": "code",
   "execution_count": 2,
   "id": "cff9499d-c228-4380-9ddc-a15fb22c66f0",
   "metadata": {},
   "outputs": [
    {
     "data": {
      "text/plain": [
       "[5, 0, 1, 2, 11, 1692]"
      ]
     },
     "execution_count": 2,
     "metadata": {},
     "output_type": "execute_result"
    }
   ],
   "source": [
    "\n",
    "def read_input(input_file: Union[str, Path]) -> List[int]:\n",
    "    \"\"\"\n",
    "    Function to read a text file line by line and return a list of valid integers.\n",
    "    \n",
    "    Args:\n",
    "    - input_file (Union[str, Path]): Path to the input file.\n",
    "    \n",
    "    Returns:\n",
    "    - List[int]: List of integers extracted from the file.\n",
    "    \"\"\"\n",
    "    cases = []\n",
    "    \n",
    "    input_file = Path(input_file)\n",
    "    \n",
    "    with input_file.open('r') as file:\n",
    "        lines = file.readlines()\n",
    "    \n",
    "    for line in lines:\n",
    "        line = line.strip()  \n",
    "        try:\n",
    "            number = int(line)\n",
    "\n",
    "            if 0 <= number < 10**30:\n",
    "                cases.append(number)\n",
    "            else:\n",
    "                print(f\"Number {number} out of range, ignoring.\")\n",
    "        except ValueError:\n",
    "            \n",
    "            print(f\"Invalid input '{line}', ignoring.\")\n",
    "    \n",
    "    return cases\n",
    "\n",
    "read_input(\"sample.in\")"
   ]
  },
  {
   "cell_type": "code",
   "execution_count": 13,
   "id": "248a7eba-47cf-44ea-b9a0-b851ac22bec5",
   "metadata": {},
   "outputs": [
    {
     "data": {
      "text/plain": [
       "-9"
      ]
     },
     "execution_count": 13,
     "metadata": {},
     "output_type": "execute_result"
    }
   ],
   "source": [
    "def process_case(n: int) -> int:\n",
    "    \"\"\"\n",
    "    Function to process a single test case and return the minimum number named before sleep.\n",
    "    \n",
    "    Args:\n",
    "    - n (int): The number chosen by Bleatrix.\n",
    "    \n",
    "    Returns:\n",
    "    - int: The minimum number named before sleep, or \"INSOMNIA\" if n is 0.\n",
    "    \"\"\"\n",
    "    if n == 0:\n",
    "        return \"INSOMNIA\"\n",
    "\n",
    "    seen_digits = set()\n",
    "    multiplier = 0\n",
    "    current_number = 0\n",
    "    \n",
    "    while len(seen_digits) < 10:\n",
    "        multiplier += 1\n",
    "        current_number = n * multiplier\n",
    "        seen_digits.update(str(current_number))\n",
    "    \n",
    "    return current_number\n",
    "\n",
    "process_case(-1)"
   ]
  },
  {
   "cell_type": "code",
   "execution_count": 18,
   "id": "802b9685-bdea-4424-bdd0-a4718f1713df",
   "metadata": {},
   "outputs": [
    {
     "name": "stdout",
     "output_type": "stream",
     "text": [
      "Output generated successfully.\n"
     ]
    }
   ],
   "source": [
    "from typing import Union\n",
    "from pathlib import Path\n",
    "\n",
    "def generate_output(test_file: Union[str, Path], save_to: Union[str, Path]) -> str:\n",
    "    \"\"\"\n",
    "    Function to generate the expected output file by processing all test cases.\n",
    "    \n",
    "    Args:\n",
    "    - test_file (Union[str, Path]): Path to the input file containing test cases.\n",
    "    - save_to (Union[str, Path]): Path to save the output file.\n",
    "    \n",
    "    Returns:\n",
    "    - str: Message indicating the success of the operation.\n",
    "    \"\"\"\n",
    "    out = \"\"  \n",
    "    \n",
    "    with open(test_file, \"r\") as f:\n",
    "        lines = f.readlines()\n",
    "\n",
    "    T = int(lines[0])\n",
    "\n",
    "    for i in range(1, T+1):\n",
    "        line = lines[i].strip()\n",
    "        if line.startswith('\"') and line.endswith('\"'):\n",
    "        \n",
    "            line = line.strip('\"')\n",
    "            try:\n",
    "                n = eval_int_exp(line)\n",
    "            except ValueError:\n",
    "                n = int(line)\n",
    "            result = process_case(n)\n",
    "            out += f\"Case #{i}: {result}\\n\"\n",
    "        else:\n",
    "            \n",
    "            try:\n",
    "                n = eval_int_exp(line)  \n",
    "            except ValueError:\n",
    "                n = int(line)\n",
    "            result = process_case(n)\n",
    "            out += f\"Case #{i}: {result}\\n\"\n",
    "\n",
    "    with open(save_to, \"w\") as f:\n",
    "        f.write(out)\n",
    "\n",
    "    return \"Output generated successfully.\"\n",
    "\n",
    "\n",
    "out = generate_output(\n",
    "    test_file=\"sample.in\", \n",
    "    save_to=\"sample_out.ans\",\n",
    ")\n",
    "print(out)"
   ]
  },
  {
   "cell_type": "code",
   "execution_count": 5,
   "id": "11785126-aac6-4857-b46d-cb655ee62f7f",
   "metadata": {},
   "outputs": [
    {
     "name": "stdout",
     "output_type": "stream",
     "text": [
      "test1_out.ans: SUCCEED\n"
     ]
    }
   ],
   "source": [
    "out1 = generate_output(test_file=\"test1.in\", save_to=\"test1_out.ans\")\n",
    "verify(ans_file=\"test1_out.ans\", num_test=1)"
   ]
  },
  {
   "cell_type": "code",
   "execution_count": 6,
   "id": "a162d680",
   "metadata": {},
   "outputs": [
    {
     "name": "stdout",
     "output_type": "stream",
     "text": [
      "test2_out.ans: SUCCEED\n"
     ]
    }
   ],
   "source": [
    "out2 = generate_output(test_file=\"test2.in\", save_to=\"test2_out.ans\")\n",
    "verify(ans_file=\"test2_out.ans\", num_test=2)"
   ]
  },
  {
   "cell_type": "code",
   "execution_count": 20,
   "id": "f8660390-224b-489c-9ca1-f1e8295e06c1",
   "metadata": {},
   "outputs": [
    {
     "name": "stdout",
     "output_type": "stream",
     "text": [
      "test3_out.ans: FAILED\n"
     ]
    }
   ],
   "source": [
    "out3 = generate_output(test_file=\"test3.in\", save_to=\"test3_out.ans\")\n",
    "verify(ans_file=\"test3_out.ans\", num_test=3)"
   ]
  }
 ],
 "metadata": {
  "kernelspec": {
   "display_name": "Python 3 (ipykernel)",
   "language": "python",
   "name": "python3"
  },
  "language_info": {
   "codemirror_mode": {
    "name": "ipython",
    "version": 3
   },
   "file_extension": ".py",
   "mimetype": "text/x-python",
   "name": "python",
   "nbconvert_exporter": "python",
   "pygments_lexer": "ipython3",
   "version": "3.12.3"
  }
 },
 "nbformat": 4,
 "nbformat_minor": 5
}
