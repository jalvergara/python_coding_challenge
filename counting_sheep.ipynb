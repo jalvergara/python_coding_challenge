{
 "cells": [
  {
   "cell_type": "markdown",
   "id": "0bd59819",
   "metadata": {
    "tags": []
   },
   "source": [
    "## Challenge: Insomnio\n",
    "\n",
    "**Dificultad: Fácil**\n",
    "\n",
    "**Tiempo estimado: 1h 45m**\n",
    "\n",
    "### Problema\n",
    "La oveja Bleatrix ha ideado una estrategia que la ayuda a conciliar el sueño más rápido.\n",
    "\n",
    "Primero, ella elige un número **N**. Luego comienza a nombrar **N**, **2 × N**, **3 × N**, y así sucesivamente.\n",
    "\n",
    "Cada vez que ella nombra un número, piensa en todos los dígitos de ese número. Ella lleva la cuenta de qué dígitos (0, 1, 2,\n",
    "3, 4, 5, 6, 7, 8 y 9) ha visto al menos una vez hasta ahora como parte de cualquier número que haya nombrado.\n",
    "\n",
    "Una vez que haya visto cada uno de los diez dígitos al menos una vez, se quedará dormida.\n",
    "\n",
    "Bleatrix debe comenzar con **N** y siempre debe nombrar **(i + 1) × N** directamente después de **i × N**. \n",
    "\n",
    "Por ejemplo, supongamos que Bleatrix elige **N = 1692**.\n",
    "\n",
    "Ella contaría de la siguiente manera:\n",
    "\n",
    "**N = 1692**. Ahora ha visto los dígitos **1, 6, 9 y 2**.\n",
    "\n",
    "**2N = 3384**. Ahora ha visto los dígitos **1, 6, 9, 2, 3, 8 y 4**.\n",
    "\n",
    "**3N = 5076**. Ahora ha visto los diez dígitos y se queda dormida.\n",
    "\n",
    "En caso de tener que contar para siempre, debería responder **INSOMNIA** como último número visto.\n",
    "\n",
    "**¿Cuál es el último número que nombrará antes de quedarse dormida?**\n",
    "\n",
    "\n",
    "\n",
    "### Input\n",
    "La primera línea de la entrada proporciona el número de casos de test **T**.\n",
    "\n",
    "Siguen **T** casos de test, donde cada uno consta de una línea con una expresion de un único número entero **N**, que representa el número que Bleatrix ha elegido.\n",
    "\n",
    "Si el número **N** no cae dentro de los valores permitidos, se deberá ignorar y continuar con el siguiente caso, sin contar este caso en la numeración del output.\n",
    "\n",
    "Si el número **N** no puede ser interpretado sin información externa, se deberá ignorar y continuar con el siguiente caso, sin contar este caso en la numeración del output.\n",
    "\n",
    "Ejemplo:\n",
    "\n",
    "```\n",
    "5\n",
    "0\n",
    "1\n",
    "2\n",
    "11\n",
    "1692\n",
    "```\n",
    "\n",
    "### Output\n",
    "Para cada caso de prueba, genere una línea que contenga **Case #X: Y**, donde **X** es el número del caso de prueba comenzando desde 1, e **Y** es el último número que Bleatrix nombrará antes de quedarse dormida, según las reglas establecidas.\n",
    "\n",
    "Ejemplo:\n",
    "```\n",
    "Case #1: INSOMNIA\n",
    "Case #2: 10\n",
    "Case #3: 90\n",
    "Case #4: 110\n",
    "Case #5: 5076\n",
    "```\n",
    "\n",
    "### Limites\n",
    "1. Tiempo: **10s** por conjunto de test.\n",
    "2. Memoria: **1 GB**.\n",
    "3. Valores: **0 ≤ N < 10^30**\n",
    "4. Casos de test: **1 ≤ T ≤ 100**.\n"
   ]
  },
  {
   "cell_type": "markdown",
   "id": "118455bc-3694-4839-9c03-e7aa8b5e2654",
   "metadata": {},
   "source": [
    "-----------"
   ]
  },
  {
   "cell_type": "markdown",
   "id": "4fc5cf8c-7422-438b-9e5a-6939cc992261",
   "metadata": {},
   "source": [
    "## Solución"
   ]
  },
  {
   "cell_type": "code",
   "execution_count": 169,
   "id": "13225824-59cc-4b8e-9303-f78c92ed9f36",
   "metadata": {},
   "outputs": [
    {
     "data": {
      "text/plain": [
       "(4, int)"
      ]
     },
     "execution_count": 169,
     "metadata": {},
     "output_type": "execute_result"
    }
   ],
   "source": [
    "from pathlib import Path\n",
    "from typing import Union, List\n",
    "import re\n",
    "\n",
    "\n",
    "def verify(ans_file, num_test):\n",
    "    \"\"\"\n",
    "    Function to verify the answers file generated.\n",
    "    \"\"\"\n",
    "    from hashlib import sha256\n",
    "    out = f\"{ans_file}: FAILED\"\n",
    "    answers = {\n",
    "        1: \"26db825d95ae7d4e17d390da877d34dc0860f5b488b3edf43faa3a5219cba2f5\",\n",
    "        2: \"03ad2675505e9dce6ad4947b180cf46f8973d2247e8c5f350acef14f240a4a8e\",\n",
    "        3: \"90010567bc90a40ab638e6af16871dc1daef99358fa7b6046a5ecd69ef44d548\",\n",
    "    }\n",
    "    ans = answers[num_test]\n",
    "    with open(ans_file, \"r\") as f:\n",
    "        if ans == sha256(f.read().encode(\"utf-8\")).hexdigest():\n",
    "            out = f\"{ans_file}: SUCCEED\"\n",
    "    print(out)\n",
    "\n",
    "def eval_int_exp(exp: str) -> int:\n",
    "    \"\"\"\n",
    "    Function to evaluate math expression to int.\n",
    "    If the expression can't be evaluated as an integer raise an exception.\n",
    "    E.g.\n",
    "        \"2+2\" -> 4\n",
    "        \"hi!\" -> Exception\n",
    "    \"\"\"\n",
    "    characters = {\"1\",\"2\",\"3\",\"4\",\"5\",\"6\",\"7\",\"8\",\"9\",\"0\",\"+\",\"-\",\"*\",\"/\",\"%\", \"\\n\", '\"'}\n",
    "    if not set(exp).issubset(characters):\n",
    "        raise Exception\n",
    "    return eval(exp)     \n",
    "    \n",
    "\n",
    "    \n",
    "\n",
    "value = eval_int_exp(\"2+2\")\n",
    "value, type(value)"
   ]
  },
  {
   "cell_type": "code",
   "execution_count": 160,
   "id": "cff9499d-c228-4380-9ddc-a15fb22c66f0",
   "metadata": {},
   "outputs": [
    {
     "data": {
      "text/plain": [
       "[12,\n",
       " 1234567890,\n",
       " 987654321,\n",
       " 0,\n",
       " 1111111111,\n",
       " 2222222222,\n",
       " 100000000000000000000000000000,\n",
       " 3333333333,\n",
       " 0,\n",
       " 1000000000000000000000000000000,\n",
       " 999999999999999999999999999999,\n",
       " 1,\n",
       " 0,\n",
       " None,\n",
       " None,\n",
       " None]"
      ]
     },
     "execution_count": 160,
     "metadata": {},
     "output_type": "execute_result"
    }
   ],
   "source": [
    "def read_input(input_file: Union[str, Path]) -> List[int]:\n",
    "    \"\"\"\n",
    "    Function to read a text file line by line.\n",
    "\n",
    "    Returns:\n",
    "        cases: List numbers `n` to process later.\n",
    "    \"\"\"\n",
    "    cases = []\n",
    "    \n",
    "    with open(f\"{input_file}\", \"r\") as file:\n",
    "        text = file.read().splitlines()\n",
    "    \n",
    "    for i in text:\n",
    "        i = i.strip().replace('\"', '')\n",
    "        try:\n",
    "            n = eval_int_exp(i)\n",
    "            cases.append(n)\n",
    "        except:\n",
    "            cases.append(None)\n",
    "            \n",
    "    # transform expression N into an integer\n",
    "    # validate the input\n",
    "\n",
    "    return cases\n",
    "  \n",
    "read_input(\"test3.in\")"
   ]
  },
  {
   "cell_type": "code",
   "execution_count": 173,
   "id": "248a7eba-47cf-44ea-b9a0-b851ac22bec5",
   "metadata": {},
   "outputs": [
    {
     "data": {
      "text/plain": [
       "{'Case #1': 'INSOMNIA',\n",
       " 'Case #2': 10,\n",
       " 'Case #3': 90,\n",
       " 'Case #4': 110,\n",
       " 'Case #5': 5076}"
      ]
     },
     "execution_count": 173,
     "metadata": {},
     "output_type": "execute_result"
    }
   ],
   "source": [
    "def process_case(nlist: list[int]) -> dict[str]:\n",
    "    \"\"\"\n",
    "    Function to process a single test case.\n",
    "\n",
    "    Returns:\n",
    "        d: minimum number named before sleep.\n",
    "    \"\"\"\n",
    "    nlist = nlist[1:]\n",
    "    resp_dict = {}\n",
    "    x = 0\n",
    "    for n in nlist:\n",
    "        set_counter = set()\n",
    "        x+=1\n",
    "        if type(n) != int:\n",
    "            x-=1\n",
    "            continue\n",
    "        if n == 0:\n",
    "            resp_dict[f\"Case #{x}\"] = \"INSOMNIA\"\n",
    "            continue\n",
    "        if n <= 0:\n",
    "            x-=1\n",
    "            continue\n",
    "        if n >= 10**30:\n",
    "            x-=1\n",
    "            continue\n",
    "        y = 0\n",
    "        value = n\n",
    "        while True:\n",
    "            y += 1\n",
    "            #print(x, y, y*value, set_counter)\n",
    "            number = str(value*y)\n",
    "            for _ in number:\n",
    "                set_counter.add(int(_))\n",
    "            \n",
    "            \n",
    "            if sum(list(set_counter))  >= 45:\n",
    "                if  0 in list(set_counter):\n",
    "                    resp_dict[f\"Case #{x}\"] =  y*value\n",
    "                    break\n",
    "            \n",
    "    return resp_dict\n",
    "\n",
    "        \n",
    "    \n",
    "\n",
    "process_case(read_input(\"sample.in\"))"
   ]
  },
  {
   "cell_type": "code",
   "execution_count": 163,
   "id": "e9eac5e7",
   "metadata": {},
   "outputs": [
    {
     "name": "stdout",
     "output_type": "stream",
     "text": [
      "[12, 1234567890, 987654321, 0, 1111111111, 2222222222, 100000000000000000000000000000, 3333333333, 0, 1000000000000000000000000000000, 999999999999999999999999999999, 1, 0, None, None, None]\n"
     ]
    }
   ],
   "source": [
    "dict_resp = read_input(\"test3.in\")\n",
    "print(dict_resp)"
   ]
  },
  {
   "cell_type": "code",
   "execution_count": null,
   "id": "0881a84b",
   "metadata": {},
   "outputs": [],
   "source": []
  },
  {
   "cell_type": "code",
   "execution_count": 101,
   "id": "802b9685-bdea-4424-bdd0-a4718f1713df",
   "metadata": {},
   "outputs": [
    {
     "name": "stdout",
     "output_type": "stream",
     "text": [
      "['Case #1: INSOMNIA\\n', 'Case #2: 10\\n', 'Case #3: 90\\n', 'Case #4: 110\\n', 'Case #5: 5076\\n', 'Case #1: INSOMNIA\\n', 'Case #2: 10\\n', 'Case #3: 90\\n', 'Case #4: 110\\n', 'Case #5: 5076\\n', 'Case #1: INSOMNIA\\n', 'Case #2: 10\\n', 'Case #3: 90\\n', 'Case #4: 110\\n', 'Case #5: 5076\\n']\n"
     ]
    }
   ],
   "source": [
    "def generate_output(test_file: Union[str, Path], save_to: Union[str, Path]) -> str:\n",
    "    \"\"\"\n",
    "    Function to make the output file expected, processing all test cases.\n",
    "    \"\"\"\n",
    "    dict_resp = read_input(test_file)\n",
    "    dict_resp = process_case(dict_resp)\n",
    "    response = None\n",
    "    with open(save_to, \"a\") as file:\n",
    "        for i in dict_resp:\n",
    "            file.write(f\"{i}: {dict_resp[i]}\\n\")\n",
    "    with open(save_to, \"r\") as file:\n",
    "        response = file.readlines()\n",
    "    out = response\n",
    "    # make the output string\n",
    "    # write the output in `save_to` file\n",
    "\n",
    "    return out\n",
    "\n",
    "out = generate_output(\n",
    "    test_file=\"sample.in\", \n",
    "    save_to=\"sample_out.ans\",\n",
    ")\n",
    "print(out)"
   ]
  },
  {
   "cell_type": "code",
   "execution_count": 49,
   "id": "11785126-aac6-4857-b46d-cb655ee62f7f",
   "metadata": {},
   "outputs": [
    {
     "name": "stdout",
     "output_type": "stream",
     "text": [
      "test1_out.ans: SUCCEED\n"
     ]
    }
   ],
   "source": [
    "out1 = generate_output(test_file=\"test1.in\", save_to=\"test1_out.ans\")\n",
    "verify(ans_file=\"test1_out.ans\", num_test=1)"
   ]
  },
  {
   "cell_type": "code",
   "execution_count": 50,
   "id": "a162d680",
   "metadata": {},
   "outputs": [
    {
     "name": "stdout",
     "output_type": "stream",
     "text": [
      "test2_out.ans: SUCCEED\n"
     ]
    }
   ],
   "source": [
    "out2 = generate_output(test_file=\"test2.in\", save_to=\"test2_out.ans\")\n",
    "verify(ans_file=\"test2_out.ans\", num_test=2)"
   ]
  },
  {
   "cell_type": "code",
   "execution_count": 174,
   "id": "f8660390-224b-489c-9ca1-f1e8295e06c1",
   "metadata": {},
   "outputs": [
    {
     "name": "stdout",
     "output_type": "stream",
     "text": [
      "test3_out.ans: SUCCEED\n"
     ]
    }
   ],
   "source": [
    "out3 = generate_output(test_file=\"test3.in\", save_to=\"test3_out.ans\")\n",
    "verify(ans_file=\"test3_out.ans\", num_test=3)"
   ]
  }
 ],
 "metadata": {
  "kernelspec": {
   "display_name": "venv",
   "language": "python",
   "name": "python3"
  },
  "language_info": {
   "codemirror_mode": {
    "name": "ipython",
    "version": 3
   },
   "file_extension": ".py",
   "mimetype": "text/x-python",
   "name": "python",
   "nbconvert_exporter": "python",
   "pygments_lexer": "ipython3",
   "version": "3.12.0"
  }
 },
 "nbformat": 4,
 "nbformat_minor": 5
}
