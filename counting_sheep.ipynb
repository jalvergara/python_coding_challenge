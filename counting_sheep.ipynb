{
 "cells": [
  {
   "cell_type": "markdown",
   "id": "0bd59819",
   "metadata": {
    "tags": []
   },
   "source": [
    "## Challenge: Insomnio\n",
    "\n",
    "**Dificultad: Fácil**\n",
    "\n",
    "**Tiempo estimado: 1h 45m**\n",
    "\n",
    "### Problema\n",
    "La oveja Bleatrix ha ideado una estrategia que la ayuda a conciliar el sueño más rápido.\n",
    "\n",
    "Primero, ella elige un número **N**. Luego comienza a nombrar **N**, **2 × N**, **3 × N**, y así sucesivamente.\n",
    "\n",
    "Cada vez que ella nombra un número, piensa en todos los dígitos de ese número. Ella lleva la cuenta de qué dígitos (0, 1, 2,\n",
    "3, 4, 5, 6, 7, 8 y 9) ha visto al menos una vez hasta ahora como parte de cualquier número que haya nombrado.\n",
    "\n",
    "Una vez que haya visto cada uno de los diez dígitos al menos una vez, se quedará dormida.\n",
    "\n",
    "Bleatrix debe comenzar con **N** y siempre debe nombrar **(i + 1) × N** directamente después de **i × N**. \n",
    "\n",
    "Por ejemplo, supongamos que Bleatrix elige **N = 1692**.\n",
    "\n",
    "Ella contaría de la siguiente manera:\n",
    "\n",
    "**N = 1692**. Ahora ha visto los dígitos **1, 6, 9 y 2**.\n",
    "\n",
    "**2N = 3384**. Ahora ha visto los dígitos **1, 6, 9, 2, 3, 8 y 4**.\n",
    "\n",
    "**3N = 5076**. Ahora ha visto los diez dígitos y se queda dormida.\n",
    "\n",
    "En caso de tener que contar para siempre, debería responder **INSOMNIA** como último número visto.\n",
    "\n",
    "**¿Cuál es el último número que nombrará antes de quedarse dormida?**\n",
    "\n",
    "\n",
    "\n",
    "### Input\n",
    "La primera línea de la entrada proporciona el número de casos de test **T**.\n",
    "\n",
    "Siguen **T** casos de test, donde cada uno consta de una línea con una expresion de un único número entero **N**, que representa el número que Bleatrix ha elegido.\n",
    "\n",
    "Si el número **N** no cae dentro de los valores permitidos, se deberá ignorar y continuar con el siguiente caso, sin contar este caso en la numeración del output.\n",
    "\n",
    "Si el número **N** no puede ser interpretado sin información externa, se deberá ignorar y continuar con el siguiente caso, sin contar este caso en la numeración del output.\n",
    "\n",
    "Ejemplo:\n",
    "\n",
    "```\n",
    "5\n",
    "0\n",
    "1\n",
    "2\n",
    "11\n",
    "1692\n",
    "```\n",
    "\n",
    "### Output\n",
    "Para cada caso de prueba, genere una línea que contenga **Case #X: Y**, donde **X** es el número del caso de prueba comenzando desde 1, e **Y** es el último número que Bleatrix nombrará antes de quedarse dormida, según las reglas establecidas.\n",
    "\n",
    "Ejemplo:\n",
    "```\n",
    "Case #1: INSOMNIA\n",
    "Case #2: 10\n",
    "Case #3: 90\n",
    "Case #4: 110\n",
    "Case #5: 5076\n",
    "```\n",
    "\n",
    "### Limites\n",
    "1. Tiempo: **10s** por conjunto de test.\n",
    "2. Memoria: **1 GB**.\n",
    "3. Valores: **0 ≤ N < 10^30**\n",
    "4. Casos de test: **1 ≤ T ≤ 100**.\n"
   ]
  },
  {
   "cell_type": "markdown",
   "id": "118455bc-3694-4839-9c03-e7aa8b5e2654",
   "metadata": {},
   "source": [
    "-----------"
   ]
  },
  {
   "cell_type": "markdown",
   "id": "4fc5cf8c-7422-438b-9e5a-6939cc992261",
   "metadata": {},
   "source": [
    "## Solución"
   ]
  },
  {
   "cell_type": "code",
   "execution_count": 20,
   "id": "13225824-59cc-4b8e-9303-f78c92ed9f36",
   "metadata": {},
   "outputs": [
    {
     "data": {
      "text/plain": [
       "(4, int)"
      ]
     },
     "execution_count": 20,
     "metadata": {},
     "output_type": "execute_result"
    }
   ],
   "source": [
    "from pathlib import Path\n",
    "from typing import Union, List\n",
    "from hashlib import sha256\n",
    "from word2number import w2n  # Importar la librería para convertir palabras a números\n",
    "\n",
    "\n",
    "def verify(ans_file, num_test):\n",
    "    out = f\"{ans_file}: FAILED\"\n",
    "    answers = {\n",
    "        1: \"26db825d95ae7d4e17d390da877d34dc0860f5b488b3edf43faa3a5219cba2f5\",\n",
    "        2: \"03ad2675505e9dce6ad4947b180cf46f8973d2247e8c5f350acef14f240a4a8e\",\n",
    "        3: \"90010567bc90a40ab638e6af16871dc1daef99358fa7b6046a5ecd69ef44d548\",\n",
    "    }\n",
    "    ans = answers[num_test]\n",
    "    \n",
    "    with open(ans_file, \"r\") as f:\n",
    "        file_content = f.read()\n",
    "        computed_hash = sha256(file_content.encode(\"utf-8\")).hexdigest()\n",
    "        print(f\"Computed hash: {computed_hash}\")  # Para depuración\n",
    "        \n",
    "        if ans == computed_hash:\n",
    "            out = f\"{ans_file}: SUCCEED\"\n",
    "        else:\n",
    "            print(f\"Expected: {ans}, but got: {computed_hash}\")  # Para verificar diferencias\n",
    "    print(out)\n",
    "\n",
    "\n",
    "def eval_int_exp(exp: str) -> int:\n",
    "    \"\"\"\n",
    "    Función para evaluar expresiones matemáticas o convertir números en palabras a enteros.\n",
    "    \"\"\"\n",
    "    try:\n",
    "        # Primero intentamos evaluar como expresión matemática\n",
    "        return int(eval(exp))\n",
    "    except:\n",
    "        try:\n",
    "            # Si falla, intentamos convertir palabras a números\n",
    "            return w2n.word_to_num(exp)\n",
    "        except:\n",
    "            raise ValueError(f\"No se puede evaluar la expresión: {exp}\")\n",
    "\n",
    "    \n",
    "value = eval_int_exp(\"2+2\")\n",
    "value, type(value)"
   ]
  },
  {
   "cell_type": "code",
   "execution_count": 21,
   "id": "cff9499d-c228-4380-9ddc-a15fb22c66f0",
   "metadata": {},
   "outputs": [
    {
     "data": {
      "text/plain": [
       "[0, 1, 2, 11, 1692]"
      ]
     },
     "execution_count": 21,
     "metadata": {},
     "output_type": "execute_result"
    }
   ],
   "source": [
    "def read_input(input_file: Union[str, Path]) -> List[int]:\n",
    "    \"\"\"\n",
    "    Función para leer un archivo de texto línea por línea.\n",
    "    \"\"\"\n",
    "    cases = []\n",
    "    with open(input_file, 'r') as f:\n",
    "        T = int(f.readline().strip())  # número de casos de prueba\n",
    "        for line in f:\n",
    "            try:\n",
    "                cases.append(eval_int_exp(line.strip()))\n",
    "            except ValueError:\n",
    "                continue  # saltar entradas inválidas\n",
    "    return cases\n",
    "\n",
    "read_input(\"sample.in\")"
   ]
  },
  {
   "cell_type": "code",
   "execution_count": 27,
   "id": "248a7eba-47cf-44ea-b9a0-b851ac22bec5",
   "metadata": {},
   "outputs": [
    {
     "data": {
      "text/plain": [
       "'INSOMNIA'"
      ]
     },
     "execution_count": 27,
     "metadata": {},
     "output_type": "execute_result"
    }
   ],
   "source": [
    "def process_case(n: int) -> Union[int, str]:\n",
    "    \"\"\"\n",
    "    Función para procesar un solo caso de prueba.\n",
    "    \"\"\"\n",
    "    if n <= 0 or n >= 10**30:\n",
    "        return \"INSOMNIA\"\n",
    "    \n",
    "    seen_digits = set()\n",
    "    multiplier = 0\n",
    "    \n",
    "    while len(seen_digits) < 10:\n",
    "        multiplier += 1\n",
    "        current_number = n * multiplier\n",
    "        seen_digits.update(str(current_number))  # Añadir los dígitos del número actual\n",
    "\n",
    "    return current_number\n",
    "\n",
    "\n",
    "process_case(2*50-100)"
   ]
  },
  {
   "cell_type": "code",
   "execution_count": 29,
   "id": "802b9685-bdea-4424-bdd0-a4718f1713df",
   "metadata": {},
   "outputs": [],
   "source": [
    "def clean_output_file(output_file: str):\n",
    "    \"\"\"\n",
    "    Function to clean the output file by removing any extra empty lines or spaces at the end of the file.\n",
    "    \"\"\"\n",
    "    with open(output_file, 'r') as file:\n",
    "        lines = file.readlines()\n",
    "    \n",
    "    # Quitar las líneas vacías al final y limpiar líneas en general\n",
    "    clean_lines = [line.rstrip() for line in lines if line.strip()]\n",
    "    \n",
    "    # Escribir las líneas limpias de nuevo en el archivo\n",
    "    with open(output_file, 'w') as file:\n",
    "        file.write(\"\\n\".join(clean_lines) + \"\\n\")\n",
    "\n",
    "\n",
    "def generate_output(test_file: Union[str, Path], save_to: Union[str, Path]) -> str:\n",
    "    \"\"\"\n",
    "    Function to make the output file expected, processing all test cases.\n",
    "    \"\"\"\n",
    "    out = \"\"\n",
    "\n",
    "    # Leer los casos de prueba\n",
    "    cases = read_input(test_file)\n",
    "    \n",
    "    # Generar el resultado para cada caso de prueba\n",
    "    with open(save_to, \"w\") as f:\n",
    "        for i, case in enumerate(cases, start=1):\n",
    "            result = process_case(case)  # Este es el valor de `Y`\n",
    "            output_line = f\"Case #{i}: {result}\"  # El formato correcto, sin salto de línea al final\n",
    "            f.write(output_line + \"\\n\")  # Añadir exactamente un salto de línea\n",
    "            out += output_line + \"\\n\"  # Guardar el resultado en la variable `out`\n",
    "    \n",
    "    # Limpiar el archivo de salida para evitar espacios adicionales\n",
    "    clean_output_file(save_to)\n",
    "\n",
    "    return out"
   ]
  },
  {
   "cell_type": "code",
   "execution_count": 24,
   "id": "11785126-aac6-4857-b46d-cb655ee62f7f",
   "metadata": {},
   "outputs": [
    {
     "name": "stdout",
     "output_type": "stream",
     "text": [
      "Computed hash: 26db825d95ae7d4e17d390da877d34dc0860f5b488b3edf43faa3a5219cba2f5\n",
      "test1_out.ans: SUCCEED\n"
     ]
    }
   ],
   "source": [
    "out1 = generate_output(test_file=\"test1.in\", save_to=\"test1_out.ans\")\n",
    "verify(ans_file=\"test1_out.ans\", num_test=1)"
   ]
  },
  {
   "cell_type": "code",
   "execution_count": 25,
   "id": "a162d680",
   "metadata": {},
   "outputs": [
    {
     "name": "stdout",
     "output_type": "stream",
     "text": [
      "Computed hash: 03ad2675505e9dce6ad4947b180cf46f8973d2247e8c5f350acef14f240a4a8e\n",
      "test2_out.ans: SUCCEED\n"
     ]
    }
   ],
   "source": [
    "out2 = generate_output(test_file=\"test2.in\", save_to=\"test2_out.ans\")\n",
    "verify(ans_file=\"test2_out.ans\", num_test=2)"
   ]
  },
  {
   "cell_type": "code",
   "execution_count": 34,
   "id": "f8660390-224b-489c-9ca1-f1e8295e06c1",
   "metadata": {},
   "outputs": [
    {
     "name": "stdout",
     "output_type": "stream",
     "text": [
      "Computed hash: d24aa9ee5636082c2bdaa24f47ce1e2564159df8935a95f8765d0a521aac490f\n",
      "Expected: 90010567bc90a40ab638e6af16871dc1daef99358fa7b6046a5ecd69ef44d548, but got: d24aa9ee5636082c2bdaa24f47ce1e2564159df8935a95f8765d0a521aac490f\n",
      "test3_out.ans: FAILED\n"
     ]
    }
   ],
   "source": [
    "out3 = generate_output(test_file=\"test3.in\", save_to=\"test3_out.ans\")\n",
    "verify(ans_file=\"test3_out.ans\", num_test=3)"
   ]
  }
 ],
 "metadata": {
  "kernelspec": {
   "display_name": "Python 3",
   "language": "python",
   "name": "python3"
  },
  "language_info": {
   "codemirror_mode": {
    "name": "ipython",
    "version": 3
   },
   "file_extension": ".py",
   "mimetype": "text/x-python",
   "name": "python",
   "nbconvert_exporter": "python",
   "pygments_lexer": "ipython3",
   "version": "3.11.5"
  }
 },
 "nbformat": 4,
 "nbformat_minor": 5
}
