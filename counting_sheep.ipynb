{
 "cells": [
  {
   "cell_type": "markdown",
   "id": "0bd59819",
   "metadata": {
    "tags": []
   },
   "source": [
    "## Challenge: Insomnio\n",
    "\n",
    "**Dificultad: Fácil**\n",
    "\n",
    "**Tiempo estimado: 1h 45m**\n",
    "\n",
    "### Problema\n",
    "La oveja Bleatrix ha ideado una estrategia que la ayuda a conciliar el sueño más rápido.\n",
    "\n",
    "Primero, ella elige un número **N**. Luego comienza a nombrar **N**, **2 × N**, **3 × N**, y así sucesivamente.\n",
    "\n",
    "Cada vez que ella nombra un número, piensa en todos los dígitos de ese número. Ella lleva la cuenta de qué dígitos (0, 1, 2,\n",
    "3, 4, 5, 6, 7, 8 y 9) ha visto al menos una vez hasta ahora como parte de cualquier número que haya nombrado.\n",
    "\n",
    "Una vez que haya visto cada uno de los diez dígitos al menos una vez, se quedará dormida.\n",
    "\n",
    "Bleatrix debe comenzar con **N** y siempre debe nombrar **(i + 1) × N** directamente después de **i × N**. \n",
    "\n",
    "Por ejemplo, supongamos que Bleatrix elige **N = 1692**.\n",
    "\n",
    "Ella contaría de la siguiente manera:\n",
    "\n",
    "**N = 1692**. Ahora ha visto los dígitos **1, 6, 9 y 2**.\n",
    "\n",
    "**2N = 3384**. Ahora ha visto los dígitos **1, 6, 9, 2, 3, 8 y 4**.\n",
    "\n",
    "**3N = 5076**. Ahora ha visto los diez dígitos y se queda dormida.\n",
    "\n",
    "En caso de tener que contar para siempre, debería responder **INSOMNIA** como último número visto.\n",
    "\n",
    "**¿Cuál es el último número que nombrará antes de quedarse dormida?**\n",
    "\n",
    "\n",
    "\n",
    "### Input\n",
    "La primera línea de la entrada proporciona el número de casos de test **T**.\n",
    "\n",
    "Siguen **T** casos de test, donde cada uno consta de una línea con una expresion de un único número entero **N**, que representa el número que Bleatrix ha elegido.\n",
    "\n",
    "Si el número **N** no cae dentro de los valores permitidos, se deberá ignorar y continuar con el siguiente caso, sin contar este caso en la numeración del output.\n",
    "\n",
    "Si el número **N** no puede ser interpretado sin información externa, se deberá ignorar y continuar con el siguiente caso, sin contar este caso en la numeración del output.\n",
    "\n",
    "Ejemplo:\n",
    "\n",
    "```\n",
    "5\n",
    "0\n",
    "1\n",
    "2\n",
    "11\n",
    "1692\n",
    "```\n",
    "\n",
    "### Output\n",
    "Para cada caso de prueba, genere una línea que contenga **Case #X: Y**, donde **X** es el número del caso de prueba comenzando desde 1, e **Y** es el último número que Bleatrix nombrará antes de quedarse dormida, según las reglas establecidas.\n",
    "\n",
    "Ejemplo:\n",
    "```\n",
    "Case #1: INSOMNIA\n",
    "Case #2: 10\n",
    "Case #3: 90\n",
    "Case #4: 110\n",
    "Case #5: 5076\n",
    "```\n",
    "\n",
    "### Limites\n",
    "1. Tiempo: **10s** por conjunto de test.\n",
    "2. Memoria: **1 GB**.\n",
    "3. Valores: **0 ≤ N < 10^30**\n",
    "4. Casos de test: **1 ≤ T ≤ 100**.\n"
   ]
  },
  {
   "cell_type": "markdown",
   "id": "118455bc-3694-4839-9c03-e7aa8b5e2654",
   "metadata": {},
   "source": [
    "-----------"
   ]
  },
  {
   "cell_type": "markdown",
   "id": "4fc5cf8c-7422-438b-9e5a-6939cc992261",
   "metadata": {},
   "source": [
    "## Solución"
   ]
  },
  {
   "cell_type": "code",
   "execution_count": 158,
   "id": "13225824-59cc-4b8e-9303-f78c92ed9f36",
   "metadata": {},
   "outputs": [
    {
     "data": {
      "text/plain": [
       "(4, int)"
      ]
     },
     "execution_count": 158,
     "metadata": {},
     "output_type": "execute_result"
    }
   ],
   "source": [
    "from pathlib import Path\n",
    "from typing import Union, List\n",
    "\n",
    "\n",
    "def verify(ans_file, num_test):\n",
    "    \"\"\"\n",
    "    Function to verify the answers file generated.\n",
    "    \"\"\"\n",
    "    from hashlib import sha256\n",
    "    out = f\"{ans_file}: FAILED\"\n",
    "    answers = {\n",
    "        1: \"26db825d95ae7d4e17d390da877d34dc0860f5b488b3edf43faa3a5219cba2f5\",\n",
    "        2: \"03ad2675505e9dce6ad4947b180cf46f8973d2247e8c5f350acef14f240a4a8e\",\n",
    "        3: \"90010567bc90a40ab638e6af16871dc1daef99358fa7b6046a5ecd69ef44d548\",\n",
    "    }\n",
    "    ans = answers[num_test]\n",
    "    with open(ans_file, \"r\") as f:\n",
    "        if ans == sha256(f.read().encode(\"utf-8\")).hexdigest():\n",
    "            out = f\"{ans_file}: SUCCEED\"\n",
    "    print(out)\n",
    "\n",
    "def eval_int_exp(exp: str) -> int:\n",
    "    try:\n",
    "        exp = exp.strip()  # Quitar espacios en blanco\n",
    "        exp = exp.replace(\"'\", '')  # Eliminar comillas simples\n",
    "        exp = exp.replace('\"', '')   # Eliminar comillas dobles\n",
    "\n",
    "        \n",
    "        # Evaluar la expresión matemática\n",
    "        result = eval(exp)\n",
    "        \n",
    "        # Revisar si el resultado es un entero\n",
    "        if not isinstance(result, int):\n",
    "            print(\"No entero\") #Esta linea se usa para encontrar que errores hay en el resultado (Igual permite continuar con el proceso)\n",
    "            raise Exception(\"No entero\")\n",
    "        \n",
    "                \n",
    "        if result >= 10**30: # Verificar si el resultado está dentro del límite\n",
    "            print(\"Excede el limite\")#Esta linea se usa para encontrar que eerrores hay en el resultado (Igual permite continuar con el proceso)\n",
    "            raise Exception(\"N excede el limite permitido: 10^30.\")\n",
    "\n",
    "                # Verificar si el resultado es negativo\n",
    "        if result < 0:\n",
    "            print(\"Valor negativo\") #Esta linea se usa para encontrar que eerrores hay en el resultado (Igual permite continuar con el proceso)\n",
    "            raise Exception(\"N es un valor negativo, no permitido.\")\n",
    "            \n",
    "        return result\n",
    "    \n",
    "    except (NameError, SyntaxError, TypeError): #Si hay alguno de estos errores se levanta exception\n",
    "        print(\"Algo no funciona\") ##Esta linea se usa para encontrar si hay eerrores en el resultado (Igual permite continuar con el proceso)\n",
    "        raise Exception(\"La expresión no puede ser pasada a int.\")\n",
    "\n",
    "value = eval_int_exp(\"2+2\")\n",
    "value, type(value)"
   ]
  },
  {
   "cell_type": "code",
   "execution_count": 159,
   "id": "cff9499d-c228-4380-9ddc-a15fb22c66f0",
   "metadata": {},
   "outputs": [
    {
     "data": {
      "text/plain": [
       "[0, 1, 2, 11, 1692]"
      ]
     },
     "execution_count": 159,
     "metadata": {},
     "output_type": "execute_result"
    }
   ],
   "source": [
    "def read_input(input_file: Union[str, Path]) -> List[int]:\n",
    "    cases = []\n",
    "    # Abrir el archivo y leer línea por línea\n",
    "    with open(input_file, 'r') as file:\n",
    "        try:\n",
    "            t = eval_int_exp(file.readline().strip()) # Leer la primera línea para obtener 't'\n",
    "        except Exception as e:\n",
    "            return cases  # Retorna la lista vacía en caso de error\n",
    "\n",
    "        for i in range(t):     # Leer los casos (t nos define cuantos hay)\n",
    "            line = file.readline()\n",
    "            if line:\n",
    "                try:\n",
    "                    number = eval_int_exp(line.strip())\n",
    "                    cases.append(number)\n",
    "                except Exception as e:\n",
    "                    print(f\"Input invalido: '{line.strip()}'. {e} Se saltará este caso\\n\") #Esta linea se usa para encontrar si hay eerrores en el input (Igual permite continuar con el proceso)\n",
    "            else:\n",
    "                break\n",
    "\n",
    "    return cases\n",
    "\n",
    "read_input(\"sample.in\")"
   ]
  },
  {
   "cell_type": "code",
   "execution_count": 160,
   "id": "248a7eba-47cf-44ea-b9a0-b851ac22bec5",
   "metadata": {},
   "outputs": [
    {
     "name": "stdout",
     "output_type": "stream",
     "text": [
      "10\n"
     ]
    }
   ],
   "source": [
    "def process_case(n: int) -> int:\n",
    "    if n == 0:  #Si n es 0, INSOMNIA\n",
    "        return \"INSOMNIA\"\n",
    "    \n",
    "    digits = set()  # Registramos los digitos que ha visto\n",
    "    multiplier = 0\n",
    "    \n",
    "    while len(digits) < 10:  # Siga contando hasta que hayamos visto todos los digitos\n",
    "        multiplier += 1\n",
    "        current_number = abs(multiplier * n)  # Nombra el siguiente número\n",
    "        digits.update(str(current_number)) # Actualizamos el conjunto de dígitos vistos\n",
    "    \n",
    "    return str(current_number)\n",
    "\n",
    "print(process_case(1)) #Podemos cambiar este (es el ultimo caso del archivo de prueba) por cualquier otro y veremos que funciona"
   ]
  },
  {
   "cell_type": "code",
   "execution_count": 161,
   "id": "802b9685-bdea-4424-bdd0-a4718f1713df",
   "metadata": {},
   "outputs": [
    {
     "name": "stdout",
     "output_type": "stream",
     "text": [
      "Case #1: INSOMNIA\n",
      "Case #2: 10\n",
      "Case #3: 90\n",
      "Case #4: 110\n",
      "Case #5: 5076\n"
     ]
    }
   ],
   "source": [
    "def generate_output(test_file: Union[str, Path], save_to: Union[str, Path]) -> str:\n",
    "    cases = read_input(test_file)  # Usamos la función para leer el input\n",
    "    out = []  # Lista para almacenar resultados\n",
    "\n",
    "    for i, n in enumerate(cases, start=1):     # Procesaremos cada caso y almacenamos el resultado\n",
    "        result = process_case(n)\n",
    "        out.append(f\"Case #{i}: {result}\")\n",
    "\n",
    "    # Convertir la lista a una cadena\n",
    "    output_string = \"\\n\".join(out)\n",
    "\n",
    " \n",
    "    with open(save_to, 'w') as f:   # Escribir la salida en el archivo especificado\n",
    "        f.write(output_string + \"\\n\")\n",
    "\n",
    "    return output_string\n",
    "\n",
    "out = generate_output( #Veamos que funciona para el input de sample que se nos dió\n",
    "    test_file=\"sample.in\", \n",
    "    save_to=\"sample_out.ans\",\n",
    ")\n",
    "print(out)"
   ]
  },
  {
   "cell_type": "code",
   "execution_count": 162,
   "id": "11785126-aac6-4857-b46d-cb655ee62f7f",
   "metadata": {},
   "outputs": [
    {
     "name": "stdout",
     "output_type": "stream",
     "text": [
      "test1_out.ans: SUCCEED\n"
     ]
    }
   ],
   "source": [
    "out1 = generate_output(test_file=\"test1.in\", save_to=\"test1_out.ans\")\n",
    "verify(ans_file=\"test1_out.ans\", num_test=1)"
   ]
  },
  {
   "cell_type": "code",
   "execution_count": 163,
   "id": "a162d680",
   "metadata": {},
   "outputs": [
    {
     "name": "stdout",
     "output_type": "stream",
     "text": [
      "test2_out.ans: SUCCEED\n"
     ]
    }
   ],
   "source": [
    "out2 = generate_output(test_file=\"test2.in\", save_to=\"test2_out.ans\")\n",
    "verify(ans_file=\"test2_out.ans\", num_test=2)"
   ]
  },
  {
   "cell_type": "code",
   "execution_count": 164,
   "id": "f8660390-224b-489c-9ca1-f1e8295e06c1",
   "metadata": {},
   "outputs": [
    {
     "name": "stdout",
     "output_type": "stream",
     "text": [
      "Excede el limite\n",
      "Input invalido: '10**30'. N excede el limite permitido: 10^30. Se saltará este caso\n",
      "\n",
      "Valor negativo\n",
      "Input invalido: '-1'. N es un valor negativo, no permitido. Se saltará este caso\n",
      "\n",
      "test3_out.ans: SUCCEED\n"
     ]
    }
   ],
   "source": [
    "out3 = generate_output(test_file=\"test3.in\", save_to=\"test3_out.ans\")\n",
    "verify(ans_file=\"test3_out.ans\", num_test=3)"
   ]
  }
 ],
 "metadata": {
  "kernelspec": {
   "display_name": "env",
   "language": "python",
   "name": "python3"
  },
  "language_info": {
   "codemirror_mode": {
    "name": "ipython",
    "version": 3
   },
   "file_extension": ".py",
   "mimetype": "text/x-python",
   "name": "python",
   "nbconvert_exporter": "python",
   "pygments_lexer": "ipython3",
   "version": "3.12.7"
  }
 },
 "nbformat": 4,
 "nbformat_minor": 5
}
