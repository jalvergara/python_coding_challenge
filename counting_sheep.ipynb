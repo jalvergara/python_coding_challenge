{
 "cells": [
  {
   "cell_type": "markdown",
   "id": "0bd59819",
   "metadata": {
    "tags": []
   },
   "source": [
    "## Challenge: Insomnio\n",
    "\n",
    "**Dificultad: Fácil**\n",
    "\n",
    "**Tiempo estimado: 1h 45m**\n",
    "\n",
    "### Problema\n",
    "La oveja Bleatrix ha ideado una estrategia que la ayuda a conciliar el sueño más rápido.\n",
    "\n",
    "Primero, ella elige un número **N**. Luego comienza a nombrar **N**, **2 × N**, **3 × N**, y así sucesivamente.\n",
    "\n",
    "Cada vez que ella nombra un número, piensa en todos los dígitos de ese número. Ella lleva la cuenta de qué dígitos (0, 1, 2,\n",
    "3, 4, 5, 6, 7, 8 y 9) ha visto al menos una vez hasta ahora como parte de cualquier número que haya nombrado.\n",
    "\n",
    "Una vez que haya visto cada uno de los diez dígitos al menos una vez, se quedará dormida.\n",
    "\n",
    "Bleatrix debe comenzar con **N** y siempre debe nombrar **(i + 1) × N** directamente después de **i × N**. \n",
    "\n",
    "Por ejemplo, supongamos que Bleatrix elige **N = 1692**.\n",
    "\n",
    "Ella contaría de la siguiente manera:\n",
    "\n",
    "**N = 1692**. Ahora ha visto los dígitos **1, 6, 9 y 2**.\n",
    "\n",
    "**2N = 3384**. Ahora ha visto los dígitos **1, 6, 9, 2, 3, 8 y 4**.\n",
    "\n",
    "**3N = 5076**. Ahora ha visto los diez dígitos y se queda dormida.\n",
    "\n",
    "En caso de tener que contar para siempre, debería responder **INSOMNIA** como último número visto.\n",
    "\n",
    "**¿Cuál es el último número que nombrará antes de quedarse dormida?**\n",
    "\n",
    "\n",
    "\n",
    "### Input\n",
    "La primera línea de la entrada proporciona el número de casos de test **T**.\n",
    "\n",
    "Siguen **T** casos de test, donde cada uno consta de una línea con una expresion de un único número entero **N**, que representa el número que Bleatrix ha elegido.\n",
    "\n",
    "Si el número **N** no cae dentro de los valores permitidos, se deberá ignorar y continuar con el siguiente caso, sin contar este caso en la numeración del output.\n",
    "\n",
    "Si el número **N** no puede ser interpretado sin información externa, se deberá ignorar y continuar con el siguiente caso, sin contar este caso en la numeración del output.\n",
    "\n",
    "Ejemplo:\n",
    "\n",
    "```\n",
    "5\n",
    "0\n",
    "1\n",
    "2\n",
    "11\n",
    "1692\n",
    "```\n",
    "\n",
    "### Output\n",
    "Para cada caso de prueba, genere una línea que contenga **Case #X: Y**, donde **X** es el número del caso de prueba comenzando desde 1, e **Y** es el último número que Bleatrix nombrará antes de quedarse dormida, según las reglas establecidas.\n",
    "\n",
    "Ejemplo:\n",
    "```\n",
    "Case #1: INSOMNIA\n",
    "Case #2: 10\n",
    "Case #3: 90\n",
    "Case #4: 110\n",
    "Case #5: 5076\n",
    "```\n",
    "\n",
    "### Limites\n",
    "1. Tiempo: **10s** por conjunto de test.\n",
    "2. Memoria: **1 GB**.\n",
    "3. Valores: **0 ≤ N < 10^30**\n",
    "4. Casos de test: **1 ≤ T ≤ 100**.\n"
   ]
  },
  {
   "cell_type": "markdown",
   "id": "118455bc-3694-4839-9c03-e7aa8b5e2654",
   "metadata": {},
   "source": [
    "-----------"
   ]
  },
  {
   "cell_type": "markdown",
   "id": "4fc5cf8c-7422-438b-9e5a-6939cc992261",
   "metadata": {},
   "source": [
    "## Solución"
   ]
  },
  {
   "cell_type": "markdown",
   "id": "309c6012",
   "metadata": {},
   "source": [
    "### 🐑🐑🐑`verify(ans_file: str, num_test: int)`\n",
    "Esta función verifica si el contenido de un archivo de salida coincide con el hash esperado para un número de prueba específico. Utiliza un diccionario de hashes predefinidos para cada prueba (`num_test`) y compara el hash del contenido del archivo con el esperado. Si coinciden, imprime que la prueba ha tenido éxito (\"SUCCEED\"); de lo contrario, marca la prueba como fallida (\"FAILED\"). Si no hay un hash esperado para la prueba especificada, muestra un mensaje de advertencia.\n"
   ]
  },
  {
   "cell_type": "code",
   "execution_count": 310,
   "id": "13225824-59cc-4b8e-9303-f78c92ed9f36",
   "metadata": {},
   "outputs": [],
   "source": [
    "from pathlib import Path\n",
    "from typing import Union, List\n",
    "from hashlib import sha256\n",
    "\n",
    "def verify(ans_file, num_test):\n",
    "    out = f\"{ans_file}: FAILED\"\n",
    "    answers = {\n",
    "        1: \"26db825d95ae7d4e17d390da877d34dc0860f5b488b3edf43faa3a5219cba2f5\",\n",
    "        2: \"03ad2675505e9dce6ad4947b180cf46f8973d2247e8c5f350acef14f240a4a8e\",\n",
    "        3: \"90010567bc90a40ab638e6af16871dc1daef99358fa7b6046a5ecd69ef44d548\",\n",
    "    }\n",
    "    ans = answers.get(num_test)\n",
    "    if not ans:\n",
    "        print(f\"No expected hash for test number {num_test}\")\n",
    "        return\n",
    "    \n",
    "    with open(ans_file, \"r\") as f:\n",
    "        file_content = f.read()\n",
    "        file_hash = sha256(file_content.encode(\"utf-8\")).hexdigest()\n",
    "        \n",
    "        if file_hash == ans:\n",
    "            out = f\"{ans_file}: SUCCEED\"\n",
    "    \n",
    "    print(out)\n"
   ]
  },
  {
   "cell_type": "markdown",
   "id": "d852c6c8",
   "metadata": {},
   "source": [
    "### 🐑🐑🐑`eval_int_exp(exp: str) -> int`\n",
    "Esta función evalúa una expresión matemática representada como cadena, asegurándose de que solo contenga caracteres permitidos (dígitos, operadores matemáticos, paréntesis y espacios). Si la expresión es válida y puede evaluarse a un número entero, devuelve el resultado. Si la expresión contiene caracteres no permitidos o no es un entero, lanza una excepción con un mensaje descriptivo. Utiliza una versión segura de `eval()` para evitar problemas de seguridad al ejecutar la expresión."
   ]
  },
  {
   "cell_type": "code",
   "execution_count": 311,
   "id": "cd323722",
   "metadata": {},
   "outputs": [
    {
     "data": {
      "text/plain": [
       "(4, int)"
      ]
     },
     "execution_count": 311,
     "metadata": {},
     "output_type": "execute_result"
    }
   ],
   "source": [
    "import re\n",
    "\n",
    "def eval_int_exp(exp: str) -> int:\n",
    "    if not re.fullmatch(r'[0-9+\\-*/() ]+', exp):\n",
    "        raise ValueError(f\"Invalid characters in expression: {exp}\")\n",
    "    \n",
    "    try:\n",
    "        result = eval(exp, {\"__builtins__\": None}, {})\n",
    "        if isinstance(result, int):\n",
    "            return result\n",
    "        else:\n",
    "            raise ValueError(f\"The result is not an integer: {result}\")\n",
    "    except (SyntaxError, NameError, ValueError, TypeError) as e:\n",
    "        raise ValueError(f\"Invalid expression: {exp}\") from e\n",
    "\n",
    "\n",
    "value = eval_int_exp(\"2+2\")\n",
    "value, type(value)"
   ]
  },
  {
   "cell_type": "markdown",
   "id": "f548ebb5",
   "metadata": {},
   "source": [
    "### 🐑🐑🐑`read_input(input_file: Union[str, Path]) -> List[int]`\n",
    "Esta función lee un archivo de entrada, línea por línea, y devuelve una lista de números enteros. Cada línea se evalúa como una expresión matemática simple y, si es válida, se agrega a la lista de casos de prueba. Las entradas inválidas son ignoradas."
   ]
  },
  {
   "cell_type": "code",
   "execution_count": 312,
   "id": "cff9499d-c228-4380-9ddc-a15fb22c66f0",
   "metadata": {},
   "outputs": [
    {
     "name": "stdout",
     "output_type": "stream",
     "text": [
      "[0, 1, 2, 11, 1692]\n"
     ]
    }
   ],
   "source": [
    "from typing import Union, List\n",
    "from pathlib import Path\n",
    "\n",
    "def read_input(input_file: Union[str, Path]) -> List[int]:\n",
    "    cases = []\n",
    "    \n",
    "    try:\n",
    "        with open(input_file, 'r') as file:\n",
    "            lines = file.readlines()\n",
    "\n",
    "        T = int(lines[0].strip())  \n",
    "\n",
    "        for i in range(1, T + 1):\n",
    "            line = lines[i].strip().replace('\"', '')  \n",
    "            try:\n",
    "                n = eval_int_exp(line)\n",
    "                if 0 <= n < 10**30:  \n",
    "                    cases.append(n)\n",
    "            except ValueError as e:\n",
    "                print(f\"Skipping invalid case: {e}\")  \n",
    "    except (FileNotFoundError, IndexError, ValueError) as e:\n",
    "        print(f\"Error reading the input file: {e}\")\n",
    "    \n",
    "    return cases\n",
    "\n",
    "cases = read_input(\"sample.in\")\n",
    "print(cases)\n",
    "\n"
   ]
  },
  {
   "cell_type": "markdown",
   "id": "252fcbb9",
   "metadata": {},
   "source": [
    "### 🐑🐑🐑`process_case(n: int) -> Union[int, str]`\n",
    "Esta función procesa un caso de prueba individual, representado por el número `n`. Calcula el último número múltiplo de `n` que contiene todos los dígitos del 0 al 9 o devuelve \"INSOMNIA\" si no es posible encontrar todos los dígitos (como cuando `n` es 0).\n"
   ]
  },
  {
   "cell_type": "code",
   "execution_count": 313,
   "id": "248a7eba-47cf-44ea-b9a0-b851ac22bec5",
   "metadata": {},
   "outputs": [
    {
     "name": "stdout",
     "output_type": "stream",
     "text": [
      "5076\n"
     ]
    }
   ],
   "source": [
    "from typing import Union\n",
    "\n",
    "def process_case(n: int) -> Union[int, str]:\n",
    "    if n == 0:\n",
    "        return \"INSOMNIA\"  \n",
    "    \n",
    "    seen_digits = set()  \n",
    "    multiplier = 0\n",
    "    current_number = 0\n",
    "    \n",
    "    while len(seen_digits) < 10:\n",
    "        multiplier += 1\n",
    "        current_number = n * multiplier\n",
    "        seen_digits.update(str(current_number))\n",
    "        \n",
    "    return current_number  \n",
    "\n",
    "result = process_case(1692)\n",
    "print(result)\n"
   ]
  },
  {
   "cell_type": "markdown",
   "id": "90126e81",
   "metadata": {},
   "source": [
    "### 🐑🐑🐑 `generate_output(test_file: Union[str, Path], save_to: Union[str, Path]) -> str`\n",
    "Esta función procesa todos los casos de prueba de un archivo de entrada y genera un archivo de salida con los resultados. Lee los casos, aplica la función `process_case` a cada uno, y guarda los resultados en el archivo de salida especificado. Si ocurre algún error de lectura o escritura, devuelve un mensaje descriptivo del error.\n"
   ]
  },
  {
   "cell_type": "code",
   "execution_count": 314,
   "id": "802b9685-bdea-4424-bdd0-a4718f1713df",
   "metadata": {},
   "outputs": [
    {
     "name": "stdout",
     "output_type": "stream",
     "text": [
      "Case #1: INSOMNIA\n",
      "Case #2: 10\n",
      "Case #3: 90\n",
      "Case #4: 110\n",
      "Case #5: 5076\n",
      "\n"
     ]
    }
   ],
   "source": [
    "from typing import Union\n",
    "from pathlib import Path\n",
    "\n",
    "def generate_output(test_file: Union[str, Path], save_to: Union[str, Path]) -> str:\n",
    "    try:\n",
    "        cases = read_input(test_file)  \n",
    "    except (FileNotFoundError, IOError) as e:\n",
    "        return f\"Error reading input file: {e}\"\n",
    "\n",
    "    results = []\n",
    "\n",
    "    for i, n in enumerate(cases, start=1):\n",
    "        result = process_case(n)\n",
    "        results.append(f\"Case #{i}: {result}\")\n",
    "\n",
    "    output_content = \"\\n\".join(results) + \"\\n\"\n",
    "    \n",
    "    try:\n",
    "        with open(save_to, 'w') as f:\n",
    "            f.write(output_content)\n",
    "    except (FileNotFoundError, IOError) as e:\n",
    "        return f\"Error writing to output file: {e}\"\n",
    "\n",
    "    return output_content\n",
    "\n",
    "out = generate_output(\n",
    "    test_file=\"sample.in\", \n",
    "    save_to=\"sample_out.ans\",\n",
    ")\n",
    "print(out)\n"
   ]
  },
  {
   "cell_type": "markdown",
   "id": "9dd7af04",
   "metadata": {},
   "source": [
    "### General Markdown for `out1`, `out2`, `out3` 🐑🐑🐑\n",
    "\n",
    "1. **`generate_output(test_file, save_to)`**: Procesa un archivo de entrada, genera el archivo de salida con los resultados de los casos de prueba.\n",
    "\n",
    "2. **`verify(ans_file, num_test)`**: Verifica si el archivo de salida generado coincide con el resultado esperado usando hashes predefinidos para cada prueba.\n"
   ]
  },
  {
   "cell_type": "code",
   "execution_count": 315,
   "id": "11785126-aac6-4857-b46d-cb655ee62f7f",
   "metadata": {},
   "outputs": [
    {
     "name": "stdout",
     "output_type": "stream",
     "text": [
      "test1_out.ans: SUCCEED\n"
     ]
    }
   ],
   "source": [
    "out1 = generate_output(test_file=\"test1.in\", save_to=\"test1_out.ans\")\n",
    "verify(ans_file=\"test1_out.ans\", num_test=1)"
   ]
  },
  {
   "cell_type": "code",
   "execution_count": 316,
   "id": "a162d680",
   "metadata": {},
   "outputs": [
    {
     "name": "stdout",
     "output_type": "stream",
     "text": [
      "test2_out.ans: SUCCEED\n"
     ]
    }
   ],
   "source": [
    "out2 = generate_output(test_file=\"test2.in\", save_to=\"test2_out.ans\")\n",
    "verify(ans_file=\"test2_out.ans\", num_test=2)"
   ]
  },
  {
   "cell_type": "code",
   "execution_count": 317,
   "id": "f8660390-224b-489c-9ca1-f1e8295e06c1",
   "metadata": {},
   "outputs": [
    {
     "name": "stdout",
     "output_type": "stream",
     "text": [
      "test3_out.ans: SUCCEED\n"
     ]
    }
   ],
   "source": [
    "out3 = generate_output(test_file=\"test3.in\", save_to=\"test3_out.ans\")\n",
    "verify(ans_file=\"test3_out.ans\", num_test=3)"
   ]
  },
  {
   "cell_type": "markdown",
   "id": "2325cd88",
   "metadata": {},
   "source": [
    "🏆¡Todos los casos de prueba fueron exitosos!🎉 \n",
    "¡Bleatrix finalmente se quedó dormida! \n",
    "😴🐑🐑🐑🐑🐑\n",
    "\n"
   ]
  }
 ],
 "metadata": {
  "kernelspec": {
   "display_name": "Python 3",
   "language": "python",
   "name": "python3"
  },
  "language_info": {
   "codemirror_mode": {
    "name": "ipython",
    "version": 3
   },
   "file_extension": ".py",
   "mimetype": "text/x-python",
   "name": "python",
   "nbconvert_exporter": "python",
   "pygments_lexer": "ipython3",
   "version": "3.11.2"
  }
 },
 "nbformat": 4,
 "nbformat_minor": 5
}
