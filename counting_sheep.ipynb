{
 "cells": [
  {
   "cell_type": "markdown",
   "id": "0bd59819",
   "metadata": {
    "tags": []
   },
   "source": [
    "## Challenge: Insomnio\n",
    "\n",
    "**Dificultad: Fácil**\n",
    "\n",
    "**Tiempo estimado: 1h 45m**\n",
    "\n",
    "### Problema\n",
    "La oveja Bleatrix ha ideado una estrategia que la ayuda a conciliar el sueño más rápido.\n",
    "\n",
    "Primero, ella elige un número **N**. Luego comienza a nombrar **N**, **2 × N**, **3 × N**, y así sucesivamente.\n",
    "\n",
    "Cada vez que ella nombra un número, piensa en todos los dígitos de ese número. Ella lleva la cuenta de qué dígitos (0, 1, 2,\n",
    "3, 4, 5, 6, 7, 8 y 9) ha visto al menos una vez hasta ahora como parte de cualquier número que haya nombrado.\n",
    "\n",
    "Una vez que haya visto cada uno de los diez dígitos al menos una vez, se quedará dormida.\n",
    "\n",
    "Bleatrix debe comenzar con **N** y siempre debe nombrar **(i + 1) × N** directamente después de **i × N**. \n",
    "\n",
    "Por ejemplo, supongamos que Bleatrix elige **N = 1692**.\n",
    "\n",
    "Ella contaría de la siguiente manera:\n",
    "\n",
    "**N = 1692**. Ahora ha visto los dígitos **1, 6, 9 y 2**.\n",
    "\n",
    "**2N = 3384**. Ahora ha visto los dígitos **1, 6, 9, 2, 3, 8 y 4**.\n",
    "\n",
    "**3N = 5076**. Ahora ha visto los diez dígitos y se queda dormida.\n",
    "\n",
    "En caso de tener que contar para siempre, debería responder **INSOMNIA** como último número visto.\n",
    "\n",
    "**¿Cuál es el último número que nombrará antes de quedarse dormida?**\n",
    "\n",
    "\n",
    "\n",
    "### Input\n",
    "La primera línea de la entrada proporciona el número de casos de test **T**.\n",
    "\n",
    "Siguen **T** casos de test, donde cada uno consta de una línea con una expresion de un único número entero **N**, que representa el número que Bleatrix ha elegido.\n",
    "\n",
    "Si el número **N** no cae dentro de los valores permitidos, se deberá ignorar y continuar con el siguiente caso, sin contar este caso en la numeración del output.\n",
    "\n",
    "Si el número **N** no puede ser interpretado sin información externa, se deberá ignorar y continuar con el siguiente caso, sin contar este caso en la numeración del output.\n",
    "\n",
    "Ejemplo:\n",
    "\n",
    "```\n",
    "5\n",
    "0\n",
    "1\n",
    "2\n",
    "11\n",
    "1692\n",
    "```\n",
    "\n",
    "### Output\n",
    "Para cada caso de prueba, genere una línea que contenga **Case #X: Y**, donde **X** es el número del caso de prueba comenzando desde 1, e **Y** es el último número que Bleatrix nombrará antes de quedarse dormida, según las reglas establecidas.\n",
    "\n",
    "Ejemplo:\n",
    "```\n",
    "Case #1: INSOMNIA\n",
    "Case #2: 10\n",
    "Case #3: 90\n",
    "Case #4: 110\n",
    "Case #5: 5076\n",
    "```\n",
    "\n",
    "### Limites\n",
    "1. Tiempo: **10s** por conjunto de test.\n",
    "2. Memoria: **1 GB**.\n",
    "3. Valores: **0 ≤ N < 10^30**\n",
    "4. Casos de test: **1 ≤ T ≤ 100**.\n"
   ]
  },
  {
   "cell_type": "markdown",
   "id": "118455bc-3694-4839-9c03-e7aa8b5e2654",
   "metadata": {},
   "source": [
    "-----------"
   ]
  },
  {
   "cell_type": "markdown",
   "id": "4fc5cf8c-7422-438b-9e5a-6939cc992261",
   "metadata": {},
   "source": [
    "## Solución"
   ]
  },
  {
   "cell_type": "code",
   "execution_count": 220,
   "id": "13225824-59cc-4b8e-9303-f78c92ed9f36",
   "metadata": {},
   "outputs": [
    {
     "name": "stdout",
     "output_type": "stream",
     "text": [
      "4 <class 'int'>\n"
     ]
    }
   ],
   "source": [
    "from pathlib import Path\n",
    "from typing import Union, List\n",
    "from word2number import w2n\n",
    "from hashlib import sha256\n",
    "\n",
    "\n",
    "def verify(ans_file, num_test):\n",
    "    \"\"\"\n",
    "    Function to verify the answers file generated.\n",
    "    \"\"\"\n",
    "    result_status = f\"{ans_file}: FAILED\"\n",
    "    expected_hashes = {\n",
    "        1: \"26db825d95ae7d4e17d390da877d34dc0860f5b488b3edf43faa3a5219cba2f5\",\n",
    "        2: \"03ad2675505e9dce6ad4947b180cf46f8973d2247e8c5f350acef14f240a4a8e\",\n",
    "        3: \"90010567bc90a40ab638e6af16871dc1daef99358fa7b6046a5ecd69ef44d548\",\n",
    "    }\n",
    "    expected_hash = expected_hashes[num_test]\n",
    "    \n",
    "    with open(ans_file, \"r\") as file:\n",
    "        file_content = file.read().encode(\"utf-8\")\n",
    "        if expected_hash == sha256(file_content).hexdigest():\n",
    "            result_status = f\"{ans_file}: SUCCEED\"\n",
    "    \n",
    "    print(result_status)\n",
    "\n",
    "def eval_int_exp(expression: str) -> int:\n",
    "    \"\"\"\n",
    "    Function to evaluate math expression to int.\n",
    "    If the expression can't be evaluated as an integer raise an exception.\n",
    "    \"\"\"\n",
    "    evaluated_result = eval(expression)\n",
    "    \n",
    "    if not isinstance(evaluated_result, int):\n",
    "        raise ValueError(f\"The expression '{expression}' did not evaluate to an integer.\")\n",
    "    return evaluated_result\n",
    "\n",
    "def convert_word_to_number(word: str) -> int:\n",
    "    \"\"\"Convert a number word to an integer.\"\"\"\n",
    "    return w2n.word_to_num(word)\n",
    "\n",
    "value = eval_int_exp(\"2+2\")\n",
    "print(value, type(value))"
   ]
  },
  {
   "cell_type": "code",
   "execution_count": 228,
   "id": "cff9499d-c228-4380-9ddc-a15fb22c66f0",
   "metadata": {},
   "outputs": [
    {
     "data": {
      "text/plain": [
       "[0, 1, 2, 11, 1692]"
      ]
     },
     "execution_count": 228,
     "metadata": {},
     "output_type": "execute_result"
    }
   ],
   "source": [
    "def read_input(input_file: Union[str, Path]) -> List[int]:\n",
    "    \"\"\"Function to read a text file line by line.\"\"\"\n",
    "    parsed_numbers = []\n",
    "    \n",
    "    with open(input_file, \"r\") as file:\n",
    "        # Ignorar la primera línea que contiene el número de casos\n",
    "        next(file)  \n",
    "        for line in file:\n",
    "            cleaned_line = line.strip().strip('\"')\n",
    "            if not cleaned_line:\n",
    "                continue\n",
    "\n",
    "            try:\n",
    "                if cleaned_line.isdigit():\n",
    "                    number = eval_int_exp(cleaned_line)\n",
    "                else:\n",
    "                    number = eval_int_exp(cleaned_line)\n",
    "                \n",
    "                if 0 <= number < 10**30:\n",
    "                    parsed_numbers.append(number)\n",
    "                    \n",
    "            except ValueError as error:\n",
    "                try:\n",
    "                    num = convert_word_to_number(cleaned_line)\n",
    "                    if 0 <= num < 10**30:\n",
    "                        parsed_numbers.append(num)\n",
    "                except Exception:\n",
    "                    print(f\"Skipping invalid input: {cleaned_line} - Error: {error}\")\n",
    "\n",
    "            # Limitar la cantidad de casos leídos según el archivo de entrada\n",
    "            if len(parsed_numbers) >= 100 and input_file in [\"test1.in\", \"test2.in\"]:\n",
    "                break\n",
    "            if len(parsed_numbers) >= 10 and input_file == \"test3.in\":\n",
    "                break\n",
    "\n",
    "    return parsed_numbers\n",
    "\n",
    "read_input(\"sample.in\")"
   ]
  },
  {
   "cell_type": "code",
   "execution_count": 229,
   "id": "248a7eba-47cf-44ea-b9a0-b851ac22bec5",
   "metadata": {},
   "outputs": [
    {
     "data": {
      "text/plain": [
       "'INSOMNIA'"
      ]
     },
     "execution_count": 229,
     "metadata": {},
     "output_type": "execute_result"
    }
   ],
   "source": [
    "def process_case(n: int) -> str:\n",
    "    \"\"\"\n",
    "    Function to process a single test case.\n",
    "\n",
    "    Returns:\n",
    "        str: Minimum number named before sleep or \"INSOMNIA\".\n",
    "    \"\"\"\n",
    "    if n == 0:\n",
    "        return \"INSOMNIA\"\n",
    "\n",
    "    seen_digits = set()\n",
    "    current_number = 0\n",
    "\n",
    "    while len(seen_digits) < 10:\n",
    "        current_number += n\n",
    "        seen_digits.update(str(current_number))\n",
    "\n",
    "    return str(current_number)\n",
    "\n",
    "\n",
    "process_case(2*50-100)"
   ]
  },
  {
   "cell_type": "code",
   "execution_count": 230,
   "id": "802b9685-bdea-4424-bdd0-a4718f1713df",
   "metadata": {},
   "outputs": [
    {
     "name": "stdout",
     "output_type": "stream",
     "text": [
      "Case #1: INSOMNIA\n",
      "Case #2: 10\n",
      "Case #3: 90\n",
      "Case #4: 110\n",
      "Case #5: 5076\n",
      "\n"
     ]
    }
   ],
   "source": [
    "def generate_output(test_file: Union[str, Path], save_to: Union[str, Path]) -> str:\n",
    "    \"\"\"\n",
    "    Function to make the output file expected, processing all test cases.\n",
    "    \"\"\"\n",
    "    test_cases = read_input(test_file)\n",
    "    output_lines = []\n",
    "\n",
    "    for index, case in enumerate(test_cases, start=1):\n",
    "        result = process_case(case)\n",
    "        output_lines.append(f\"Case #{index}: {result}\")\n",
    "\n",
    "    output_content = \"\\n\".join(output_lines) + \"\\n\"\n",
    "\n",
    "    with open(save_to, \"w\") as file:\n",
    "        file.write(output_content)\n",
    "\n",
    "    return output_content\n",
    "\n",
    "output_example = generate_output(\"sample.in\", \"sample_out.ans\")\n",
    "print(output_example)\n"
   ]
  },
  {
   "cell_type": "code",
   "execution_count": 231,
   "id": "11785126-aac6-4857-b46d-cb655ee62f7f",
   "metadata": {},
   "outputs": [
    {
     "name": "stdout",
     "output_type": "stream",
     "text": [
      "test1_out.ans: SUCCEED\n"
     ]
    }
   ],
   "source": [
    "out1 = generate_output(test_file=\"test1.in\", save_to=\"test1_out.ans\")\n",
    "verify(ans_file=\"test1_out.ans\", num_test=1)"
   ]
  },
  {
   "cell_type": "code",
   "execution_count": 232,
   "id": "a162d680",
   "metadata": {},
   "outputs": [
    {
     "name": "stdout",
     "output_type": "stream",
     "text": [
      "test2_out.ans: SUCCEED\n"
     ]
    }
   ],
   "source": [
    "out2 = generate_output(test_file=\"test2.in\", save_to=\"test2_out.ans\")\n",
    "verify(ans_file=\"test2_out.ans\", num_test=2)"
   ]
  },
  {
   "cell_type": "code",
   "execution_count": 233,
   "id": "f8660390-224b-489c-9ca1-f1e8295e06c1",
   "metadata": {},
   "outputs": [
    {
     "name": "stdout",
     "output_type": "stream",
     "text": [
      "test3_out.ans: SUCCEED\n"
     ]
    }
   ],
   "source": [
    "out3 = generate_output(test_file=\"test3.in\", save_to=\"test3_out.ans\")\n",
    "verify(ans_file=\"test3_out.ans\", num_test=3)"
   ]
  }
 ],
 "metadata": {
  "kernelspec": {
   "display_name": "Python 3",
   "language": "python",
   "name": "python3"
  },
  "language_info": {
   "codemirror_mode": {
    "name": "ipython",
    "version": 3
   },
   "file_extension": ".py",
   "mimetype": "text/x-python",
   "name": "python",
   "nbconvert_exporter": "python",
   "pygments_lexer": "ipython3",
   "version": "3.11.5"
  }
 },
 "nbformat": 4,
 "nbformat_minor": 5
}
