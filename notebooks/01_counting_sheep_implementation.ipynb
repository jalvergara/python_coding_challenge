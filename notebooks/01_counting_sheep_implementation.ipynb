{
 "cells": [
  {
   "cell_type": "markdown",
   "metadata": {},
   "source": [
    "### **Counting Sheep - Python Implementation**\n",
    "\n",
    "This notebook provides the implementation for the \"Counting Sheep\" challenge. The problem consists of helping Bleatrix, a sheep with insomnia, by counting multiples of a number `N` until she has seen all digits (0-9) at least once, or determining that it is impossible (resulting in insomnia). \n",
    "\n",
    "We will build functions in Python to process test cases where Bleatrix chooses a number `N`, and for each case, determine the last number Bleatrix counts before falling asleep or if she suffers from insomnia.\n",
    "\n",
    "The notebook imports necessary functions from `src/sheepfunctions.py` and processes the provided input data, producing the required outputs in the `output/` directory."
   ]
  },
  {
   "cell_type": "code",
   "execution_count": 9,
   "metadata": {},
   "outputs": [],
   "source": [
    "import sys\n",
    "import os\n",
    "\n",
    "from hashlib import sha256\n",
    "from pathlib import Path\n",
    "\n",
    "# Add the 'src' folder to sys.path\n",
    "sys.path.append(os.path.abspath(os.path.join('..', 'src')))\n",
    "\n",
    "from sheepfunctions import read_input, process_case, generate_output"
   ]
  },
  {
   "cell_type": "markdown",
   "metadata": {},
   "source": [
    "### **Example**"
   ]
  },
  {
   "cell_type": "code",
   "execution_count": 10,
   "metadata": {},
   "outputs": [
    {
     "name": "stdout",
     "output_type": "stream",
     "text": [
      "Casos de prueba: [0, 1, 2, 11, 1692]\n"
     ]
    }
   ],
   "source": [
    "# Define the example input file\n",
    "input_file = Path(\"../context/examples/sample.in\")\n",
    "\n",
    "# Read the test cases from the file\n",
    "cases = read_input(input_file)\n",
    "\n",
    "# Print the number of test cases readed\n",
    "print(f\"Casos de prueba: {cases}\")"
   ]
  },
  {
   "cell_type": "code",
   "execution_count": 11,
   "metadata": {},
   "outputs": [
    {
     "name": "stdout",
     "output_type": "stream",
     "text": [
      "Resultado para N = 1692: 5076\n"
     ]
    }
   ],
   "source": [
    "# Test with a single case (for example, the number 1692)\n",
    "n = 1692\n",
    "result = process_case(n)\n",
    "\n",
    "# Print the result of the test case\n",
    "print(f\"Resultado para N = {n}: {result}\")"
   ]
  },
  {
   "cell_type": "code",
   "execution_count": 12,
   "metadata": {},
   "outputs": [
    {
     "name": "stderr",
     "output_type": "stream",
     "text": [
      "INFO:root:[INFO] Memory usage: 67.30 MB\n",
      "INFO:root:[INFO] Execution time of generate_output: 0.0055 seconds\n"
     ]
    },
    {
     "name": "stdout",
     "output_type": "stream",
     "text": [
      "Case #1: INSOMNIA\n",
      "Case #2: 10\n",
      "Case #3: 90\n",
      "Case #4: 110\n",
      "Case #5: 5076\n",
      "\n"
     ]
    }
   ],
   "source": [
    "# Set the output file where we want to save the results\n",
    "output_file = Path(\"../output/sample_out.ans\")\n",
    "\n",
    "# Generate the output for all cases and save it to the output file\n",
    "output = generate_output(input_file, output_file)\n",
    "\n",
    "# Print the output file generated\n",
    "print(output)\n"
   ]
  },
  {
   "cell_type": "markdown",
   "metadata": {},
   "source": [
    "---"
   ]
  },
  {
   "cell_type": "markdown",
   "metadata": {},
   "source": [
    "### **Implementation & Tests**"
   ]
  },
  {
   "cell_type": "code",
   "execution_count": 13,
   "metadata": {},
   "outputs": [],
   "source": [
    "# Function to verify the output file\n",
    "def verify(ans_file: Path, num_test: int) -> None:\n",
    "    answers = {\n",
    "        1: \"26db825d95ae7d4e17d390da877d34dc0860f5b488b3edf43faa3a5219cba2f5\",\n",
    "        2: \"03ad2675505e9dce6ad4947b180cf46f8973d2247e8c5f350acef14f240a4a8e\",\n",
    "        3: \"90010567bc90a40ab638e6af16871dc1daef99358fa7b6046a5ecd69ef44d548\",\n",
    "    }\n",
    "    \n",
    "    with open(ans_file, \"r\") as f:\n",
    "        output_hash = sha256(f.read().encode(\"utf-8\")).hexdigest()\n",
    "        expected_hash = answers[num_test]\n",
    "        \n",
    "        if output_hash == expected_hash:\n",
    "            print(f\"{ans_file}: SUCCEED\")\n",
    "        else:\n",
    "            print(f\"{ans_file}: FAILED\")\n"
   ]
  },
  {
   "cell_type": "code",
   "execution_count": 14,
   "metadata": {},
   "outputs": [
    {
     "name": "stderr",
     "output_type": "stream",
     "text": [
      "INFO:root:[INFO] Memory usage: 67.31 MB\n",
      "INFO:root:[INFO] Execution time of generate_output: 0.0042 seconds\n"
     ]
    },
    {
     "name": "stdout",
     "output_type": "stream",
     "text": [
      "../output/test1_out.ans: SUCCEED\n"
     ]
    }
   ],
   "source": [
    "# Test #1\n",
    "output1 = generate_output(\"../context/examples/test1.in\", \"../output/test1_out.ans\")\n",
    "verify(\"../output/test1_out.ans\", num_test=1)"
   ]
  },
  {
   "cell_type": "code",
   "execution_count": 15,
   "metadata": {},
   "outputs": [
    {
     "name": "stderr",
     "output_type": "stream",
     "text": [
      "INFO:root:[INFO] Memory usage: 67.31 MB\n",
      "INFO:root:[INFO] Execution time of generate_output: 0.0050 seconds\n"
     ]
    },
    {
     "name": "stdout",
     "output_type": "stream",
     "text": [
      "../output/test2_out.ans: SUCCEED\n"
     ]
    }
   ],
   "source": [
    "# Test #2\n",
    "output2 = generate_output(\"../context/examples/test2.in\", \"../output/test2_out.ans\")\n",
    "verify(\"../output/test2_out.ans\", num_test=2)"
   ]
  },
  {
   "cell_type": "code",
   "execution_count": 16,
   "metadata": {},
   "outputs": [
    {
     "name": "stderr",
     "output_type": "stream",
     "text": [
      "INFO:root:[INFO] Memory usage: 67.31 MB\n",
      "INFO:root:[INFO] Execution time of generate_output: 0.0020 seconds\n"
     ]
    },
    {
     "name": "stdout",
     "output_type": "stream",
     "text": [
      "../output/test3_out.ans: SUCCEED\n"
     ]
    }
   ],
   "source": [
    "# Test #3\n",
    "utput3 = generate_output(\"../context/examples/test3.in\", \"../output/test3_out.ans\")\n",
    "verify(\"../output/test3_out.ans\", num_test=3)"
   ]
  },
  {
   "cell_type": "markdown",
   "metadata": {},
   "source": [
    "---"
   ]
  }
 ],
 "metadata": {
  "kernelspec": {
   "display_name": "python-coding-challenge-E8Hfbvq1-py3.12",
   "language": "python",
   "name": "python3"
  },
  "language_info": {
   "codemirror_mode": {
    "name": "ipython",
    "version": 3
   },
   "file_extension": ".py",
   "mimetype": "text/x-python",
   "name": "python",
   "nbconvert_exporter": "python",
   "pygments_lexer": "ipython3",
   "version": "3.12.1"
  }
 },
 "nbformat": 4,
 "nbformat_minor": 2
}
